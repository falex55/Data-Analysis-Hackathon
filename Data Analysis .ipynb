{
 "cells": [
  {
   "cell_type": "markdown",
   "metadata": {},
   "source": [
    "# AJ Ecom Pvt Ltd is one of the leading business who have supermarkets across different regions of India. They want to understand the performance of their supermarket in terms of customers, products and its sale."
   ]
  },
  {
   "cell_type": "code",
   "execution_count": null,
   "metadata": {},
   "outputs": [],
   "source": []
  },
  {
   "cell_type": "code",
   "execution_count": 1,
   "metadata": {},
   "outputs": [],
   "source": [
    "import pandas as pd\n",
    "import numpy as np\n",
    "import matplotlib.pyplot as plt\n",
    "import seaborn as sns"
   ]
  },
  {
   "cell_type": "code",
   "execution_count": 2,
   "metadata": {},
   "outputs": [],
   "source": [
    "import warnings\n",
    "warnings.filterwarnings('ignore')"
   ]
  },
  {
   "cell_type": "code",
   "execution_count": 3,
   "metadata": {},
   "outputs": [
    {
     "name": "stdout",
     "output_type": "stream",
     "text": [
      "(5647, 4)\n"
     ]
    },
    {
     "data": {
      "text/html": [
       "<div>\n",
       "<style scoped>\n",
       "    .dataframe tbody tr th:only-of-type {\n",
       "        vertical-align: middle;\n",
       "    }\n",
       "\n",
       "    .dataframe tbody tr th {\n",
       "        vertical-align: top;\n",
       "    }\n",
       "\n",
       "    .dataframe thead th {\n",
       "        text-align: right;\n",
       "    }\n",
       "</style>\n",
       "<table border=\"1\" class=\"dataframe\">\n",
       "  <thead>\n",
       "    <tr style=\"text-align: right;\">\n",
       "      <th></th>\n",
       "      <th>customer_Id</th>\n",
       "      <th>DOB</th>\n",
       "      <th>Gender</th>\n",
       "      <th>city_code</th>\n",
       "    </tr>\n",
       "  </thead>\n",
       "  <tbody>\n",
       "    <tr>\n",
       "      <th>0</th>\n",
       "      <td>268408</td>\n",
       "      <td>02-01-1970</td>\n",
       "      <td>M</td>\n",
       "      <td>4.0</td>\n",
       "    </tr>\n",
       "  </tbody>\n",
       "</table>\n",
       "</div>"
      ],
      "text/plain": [
       "   customer_Id         DOB Gender  city_code\n",
       "0       268408  02-01-1970      M        4.0"
      ]
     },
     "execution_count": 3,
     "metadata": {},
     "output_type": "execute_result"
    }
   ],
   "source": [
    "customer = pd.read_csv('Customer.csv')\n",
    "print(customer.shape)\n",
    "customer.head(1)"
   ]
  },
  {
   "cell_type": "code",
   "execution_count": 4,
   "metadata": {},
   "outputs": [
    {
     "name": "stdout",
     "output_type": "stream",
     "text": [
      "(23, 4)\n"
     ]
    },
    {
     "data": {
      "text/html": [
       "<div>\n",
       "<style scoped>\n",
       "    .dataframe tbody tr th:only-of-type {\n",
       "        vertical-align: middle;\n",
       "    }\n",
       "\n",
       "    .dataframe tbody tr th {\n",
       "        vertical-align: top;\n",
       "    }\n",
       "\n",
       "    .dataframe thead th {\n",
       "        text-align: right;\n",
       "    }\n",
       "</style>\n",
       "<table border=\"1\" class=\"dataframe\">\n",
       "  <thead>\n",
       "    <tr style=\"text-align: right;\">\n",
       "      <th></th>\n",
       "      <th>prod_cat_code</th>\n",
       "      <th>prod_cat</th>\n",
       "      <th>prod_sub_cat_code</th>\n",
       "      <th>prod_subcat</th>\n",
       "    </tr>\n",
       "  </thead>\n",
       "  <tbody>\n",
       "    <tr>\n",
       "      <th>0</th>\n",
       "      <td>1</td>\n",
       "      <td>Clothing</td>\n",
       "      <td>4</td>\n",
       "      <td>Mens</td>\n",
       "    </tr>\n",
       "  </tbody>\n",
       "</table>\n",
       "</div>"
      ],
      "text/plain": [
       "   prod_cat_code  prod_cat  prod_sub_cat_code prod_subcat\n",
       "0              1  Clothing                  4        Mens"
      ]
     },
     "execution_count": 4,
     "metadata": {},
     "output_type": "execute_result"
    }
   ],
   "source": [
    "product = pd.read_csv('prod_cat_info.csv')\n",
    "print(product.shape)\n",
    "product.head(1)"
   ]
  },
  {
   "cell_type": "code",
   "execution_count": 5,
   "metadata": {},
   "outputs": [
    {
     "name": "stdout",
     "output_type": "stream",
     "text": [
      "(23053, 10)\n"
     ]
    },
    {
     "data": {
      "text/html": [
       "<div>\n",
       "<style scoped>\n",
       "    .dataframe tbody tr th:only-of-type {\n",
       "        vertical-align: middle;\n",
       "    }\n",
       "\n",
       "    .dataframe tbody tr th {\n",
       "        vertical-align: top;\n",
       "    }\n",
       "\n",
       "    .dataframe thead th {\n",
       "        text-align: right;\n",
       "    }\n",
       "</style>\n",
       "<table border=\"1\" class=\"dataframe\">\n",
       "  <thead>\n",
       "    <tr style=\"text-align: right;\">\n",
       "      <th></th>\n",
       "      <th>transaction_id</th>\n",
       "      <th>cust_id</th>\n",
       "      <th>tran_date</th>\n",
       "      <th>prod_subcat_code</th>\n",
       "      <th>prod_cat_code</th>\n",
       "      <th>Qty</th>\n",
       "      <th>Rate</th>\n",
       "      <th>Tax</th>\n",
       "      <th>total_amt</th>\n",
       "      <th>Store_type</th>\n",
       "    </tr>\n",
       "  </thead>\n",
       "  <tbody>\n",
       "    <tr>\n",
       "      <th>0</th>\n",
       "      <td>80712190438</td>\n",
       "      <td>270351</td>\n",
       "      <td>28-02-2014</td>\n",
       "      <td>1</td>\n",
       "      <td>1</td>\n",
       "      <td>-5</td>\n",
       "      <td>-772</td>\n",
       "      <td>405.3</td>\n",
       "      <td>-4265.3</td>\n",
       "      <td>e-Shop</td>\n",
       "    </tr>\n",
       "  </tbody>\n",
       "</table>\n",
       "</div>"
      ],
      "text/plain": [
       "   transaction_id  cust_id   tran_date  prod_subcat_code  prod_cat_code  Qty  \\\n",
       "0     80712190438   270351  28-02-2014                 1              1   -5   \n",
       "\n",
       "   Rate    Tax  total_amt Store_type  \n",
       "0  -772  405.3    -4265.3     e-Shop  "
      ]
     },
     "execution_count": 5,
     "metadata": {},
     "output_type": "execute_result"
    }
   ],
   "source": [
    "transaction = pd.read_csv('Transactions.csv')\n",
    "print(transaction.shape)\n",
    "transaction.head(1)"
   ]
  },
  {
   "cell_type": "code",
   "execution_count": 6,
   "metadata": {},
   "outputs": [
    {
     "data": {
      "text/plain": [
       "(23053, 14)"
      ]
     },
     "execution_count": 6,
     "metadata": {},
     "output_type": "execute_result"
    }
   ],
   "source": [
    "cust_transaction = pd.merge(customer, transaction, left_on = 'customer_Id', right_on = 'cust_id' )\n",
    "cust_transaction.shape"
   ]
  },
  {
   "cell_type": "code",
   "execution_count": 7,
   "metadata": {},
   "outputs": [],
   "source": [
    "cust_transaction.drop('cust_id', axis=1, inplace = True)"
   ]
  },
  {
   "cell_type": "code",
   "execution_count": 8,
   "metadata": {},
   "outputs": [
    {
     "data": {
      "text/html": [
       "<div>\n",
       "<style scoped>\n",
       "    .dataframe tbody tr th:only-of-type {\n",
       "        vertical-align: middle;\n",
       "    }\n",
       "\n",
       "    .dataframe tbody tr th {\n",
       "        vertical-align: top;\n",
       "    }\n",
       "\n",
       "    .dataframe thead th {\n",
       "        text-align: right;\n",
       "    }\n",
       "</style>\n",
       "<table border=\"1\" class=\"dataframe\">\n",
       "  <thead>\n",
       "    <tr style=\"text-align: right;\">\n",
       "      <th></th>\n",
       "      <th>customer_Id</th>\n",
       "      <th>DOB</th>\n",
       "      <th>Gender</th>\n",
       "      <th>city_code</th>\n",
       "      <th>transaction_id</th>\n",
       "      <th>tran_date</th>\n",
       "      <th>prod_subcat_code</th>\n",
       "      <th>prod_cat_code</th>\n",
       "      <th>Qty</th>\n",
       "      <th>Rate</th>\n",
       "      <th>Tax</th>\n",
       "      <th>total_amt</th>\n",
       "      <th>Store_type</th>\n",
       "    </tr>\n",
       "  </thead>\n",
       "  <tbody>\n",
       "    <tr>\n",
       "      <th>5199</th>\n",
       "      <td>274692</td>\n",
       "      <td>19-04-1975</td>\n",
       "      <td>M</td>\n",
       "      <td>3.0</td>\n",
       "      <td>69176208532</td>\n",
       "      <td>14-03-2013</td>\n",
       "      <td>6</td>\n",
       "      <td>5</td>\n",
       "      <td>5</td>\n",
       "      <td>1215</td>\n",
       "      <td>637.875</td>\n",
       "      <td>6712.875</td>\n",
       "      <td>MBR</td>\n",
       "    </tr>\n",
       "    <tr>\n",
       "      <th>13361</th>\n",
       "      <td>269659</td>\n",
       "      <td>18-04-1983</td>\n",
       "      <td>F</td>\n",
       "      <td>8.0</td>\n",
       "      <td>4623545525</td>\n",
       "      <td>16-11-2013</td>\n",
       "      <td>9</td>\n",
       "      <td>3</td>\n",
       "      <td>-5</td>\n",
       "      <td>-164</td>\n",
       "      <td>86.100</td>\n",
       "      <td>-906.100</td>\n",
       "      <td>MBR</td>\n",
       "    </tr>\n",
       "    <tr>\n",
       "      <th>18414</th>\n",
       "      <td>271244</td>\n",
       "      <td>02-06-1988</td>\n",
       "      <td>F</td>\n",
       "      <td>3.0</td>\n",
       "      <td>93943110737</td>\n",
       "      <td>1/5/2013</td>\n",
       "      <td>4</td>\n",
       "      <td>3</td>\n",
       "      <td>4</td>\n",
       "      <td>1402</td>\n",
       "      <td>588.840</td>\n",
       "      <td>6196.840</td>\n",
       "      <td>Flagship store</td>\n",
       "    </tr>\n",
       "    <tr>\n",
       "      <th>18782</th>\n",
       "      <td>270481</td>\n",
       "      <td>11-10-1988</td>\n",
       "      <td>M</td>\n",
       "      <td>7.0</td>\n",
       "      <td>10875963158</td>\n",
       "      <td>30-11-2012</td>\n",
       "      <td>4</td>\n",
       "      <td>2</td>\n",
       "      <td>2</td>\n",
       "      <td>1096</td>\n",
       "      <td>230.160</td>\n",
       "      <td>2422.160</td>\n",
       "      <td>TeleShop</td>\n",
       "    </tr>\n",
       "    <tr>\n",
       "      <th>7847</th>\n",
       "      <td>274269</td>\n",
       "      <td>09-11-1977</td>\n",
       "      <td>M</td>\n",
       "      <td>8.0</td>\n",
       "      <td>76436093371</td>\n",
       "      <td>30-06-2011</td>\n",
       "      <td>1</td>\n",
       "      <td>4</td>\n",
       "      <td>2</td>\n",
       "      <td>939</td>\n",
       "      <td>197.190</td>\n",
       "      <td>2075.190</td>\n",
       "      <td>TeleShop</td>\n",
       "    </tr>\n",
       "  </tbody>\n",
       "</table>\n",
       "</div>"
      ],
      "text/plain": [
       "       customer_Id         DOB Gender  city_code  transaction_id   tran_date  \\\n",
       "5199        274692  19-04-1975      M        3.0     69176208532  14-03-2013   \n",
       "13361       269659  18-04-1983      F        8.0      4623545525  16-11-2013   \n",
       "18414       271244  02-06-1988      F        3.0     93943110737    1/5/2013   \n",
       "18782       270481  11-10-1988      M        7.0     10875963158  30-11-2012   \n",
       "7847        274269  09-11-1977      M        8.0     76436093371  30-06-2011   \n",
       "\n",
       "       prod_subcat_code  prod_cat_code  Qty  Rate      Tax  total_amt  \\\n",
       "5199                  6              5    5  1215  637.875   6712.875   \n",
       "13361                 9              3   -5  -164   86.100   -906.100   \n",
       "18414                 4              3    4  1402  588.840   6196.840   \n",
       "18782                 4              2    2  1096  230.160   2422.160   \n",
       "7847                  1              4    2   939  197.190   2075.190   \n",
       "\n",
       "           Store_type  \n",
       "5199              MBR  \n",
       "13361             MBR  \n",
       "18414  Flagship store  \n",
       "18782        TeleShop  \n",
       "7847         TeleShop  "
      ]
     },
     "execution_count": 8,
     "metadata": {},
     "output_type": "execute_result"
    }
   ],
   "source": [
    "cust_transaction.sample(5)"
   ]
  },
  {
   "cell_type": "code",
   "execution_count": 9,
   "metadata": {},
   "outputs": [
    {
     "data": {
      "text/plain": [
       "(23053, 16)"
      ]
     },
     "execution_count": 9,
     "metadata": {},
     "output_type": "execute_result"
    }
   ],
   "source": [
    "market_data = pd.merge(product, cust_transaction, left_on = ['prod_cat_code', 'prod_sub_cat_code'], right_on = ['prod_cat_code','prod_subcat_code'] )\n",
    "market_data.shape"
   ]
  },
  {
   "cell_type": "code",
   "execution_count": 10,
   "metadata": {},
   "outputs": [
    {
     "data": {
      "text/html": [
       "<div>\n",
       "<style scoped>\n",
       "    .dataframe tbody tr th:only-of-type {\n",
       "        vertical-align: middle;\n",
       "    }\n",
       "\n",
       "    .dataframe tbody tr th {\n",
       "        vertical-align: top;\n",
       "    }\n",
       "\n",
       "    .dataframe thead th {\n",
       "        text-align: right;\n",
       "    }\n",
       "</style>\n",
       "<table border=\"1\" class=\"dataframe\">\n",
       "  <thead>\n",
       "    <tr style=\"text-align: right;\">\n",
       "      <th></th>\n",
       "      <th>prod_cat_code</th>\n",
       "      <th>prod_cat</th>\n",
       "      <th>prod_sub_cat_code</th>\n",
       "      <th>prod_subcat</th>\n",
       "      <th>customer_Id</th>\n",
       "      <th>DOB</th>\n",
       "      <th>Gender</th>\n",
       "      <th>city_code</th>\n",
       "      <th>transaction_id</th>\n",
       "      <th>tran_date</th>\n",
       "      <th>prod_subcat_code</th>\n",
       "      <th>Qty</th>\n",
       "      <th>Rate</th>\n",
       "      <th>Tax</th>\n",
       "      <th>total_amt</th>\n",
       "      <th>Store_type</th>\n",
       "    </tr>\n",
       "  </thead>\n",
       "  <tbody>\n",
       "    <tr>\n",
       "      <th>0</th>\n",
       "      <td>1</td>\n",
       "      <td>Clothing</td>\n",
       "      <td>4</td>\n",
       "      <td>Mens</td>\n",
       "      <td>275152</td>\n",
       "      <td>16-01-1970</td>\n",
       "      <td>M</td>\n",
       "      <td>4.0</td>\n",
       "      <td>77756237112</td>\n",
       "      <td>10/9/2013</td>\n",
       "      <td>4</td>\n",
       "      <td>5</td>\n",
       "      <td>308</td>\n",
       "      <td>161.700</td>\n",
       "      <td>1701.700</td>\n",
       "      <td>e-Shop</td>\n",
       "    </tr>\n",
       "    <tr>\n",
       "      <th>1</th>\n",
       "      <td>1</td>\n",
       "      <td>Clothing</td>\n",
       "      <td>4</td>\n",
       "      <td>Mens</td>\n",
       "      <td>268732</td>\n",
       "      <td>06-05-1970</td>\n",
       "      <td>M</td>\n",
       "      <td>2.0</td>\n",
       "      <td>36887501268</td>\n",
       "      <td>25-02-2011</td>\n",
       "      <td>4</td>\n",
       "      <td>4</td>\n",
       "      <td>1150</td>\n",
       "      <td>483.000</td>\n",
       "      <td>5083.000</td>\n",
       "      <td>MBR</td>\n",
       "    </tr>\n",
       "    <tr>\n",
       "      <th>2</th>\n",
       "      <td>1</td>\n",
       "      <td>Clothing</td>\n",
       "      <td>4</td>\n",
       "      <td>Mens</td>\n",
       "      <td>271045</td>\n",
       "      <td>23-05-1970</td>\n",
       "      <td>F</td>\n",
       "      <td>7.0</td>\n",
       "      <td>57872808744</td>\n",
       "      <td>24-07-2011</td>\n",
       "      <td>4</td>\n",
       "      <td>1</td>\n",
       "      <td>359</td>\n",
       "      <td>37.695</td>\n",
       "      <td>396.695</td>\n",
       "      <td>TeleShop</td>\n",
       "    </tr>\n",
       "    <tr>\n",
       "      <th>3</th>\n",
       "      <td>1</td>\n",
       "      <td>Clothing</td>\n",
       "      <td>4</td>\n",
       "      <td>Mens</td>\n",
       "      <td>268627</td>\n",
       "      <td>01-06-1970</td>\n",
       "      <td>M</td>\n",
       "      <td>9.0</td>\n",
       "      <td>46129128420</td>\n",
       "      <td>2/1/2014</td>\n",
       "      <td>4</td>\n",
       "      <td>3</td>\n",
       "      <td>515</td>\n",
       "      <td>162.225</td>\n",
       "      <td>1707.225</td>\n",
       "      <td>e-Shop</td>\n",
       "    </tr>\n",
       "    <tr>\n",
       "      <th>4</th>\n",
       "      <td>1</td>\n",
       "      <td>Clothing</td>\n",
       "      <td>4</td>\n",
       "      <td>Mens</td>\n",
       "      <td>270430</td>\n",
       "      <td>01-06-1970</td>\n",
       "      <td>M</td>\n",
       "      <td>7.0</td>\n",
       "      <td>16839672501</td>\n",
       "      <td>29-01-2013</td>\n",
       "      <td>4</td>\n",
       "      <td>2</td>\n",
       "      <td>1282</td>\n",
       "      <td>269.220</td>\n",
       "      <td>2833.220</td>\n",
       "      <td>Flagship store</td>\n",
       "    </tr>\n",
       "  </tbody>\n",
       "</table>\n",
       "</div>"
      ],
      "text/plain": [
       "   prod_cat_code  prod_cat  prod_sub_cat_code prod_subcat  customer_Id  \\\n",
       "0              1  Clothing                  4        Mens       275152   \n",
       "1              1  Clothing                  4        Mens       268732   \n",
       "2              1  Clothing                  4        Mens       271045   \n",
       "3              1  Clothing                  4        Mens       268627   \n",
       "4              1  Clothing                  4        Mens       270430   \n",
       "\n",
       "          DOB Gender  city_code  transaction_id   tran_date  prod_subcat_code  \\\n",
       "0  16-01-1970      M        4.0     77756237112   10/9/2013                 4   \n",
       "1  06-05-1970      M        2.0     36887501268  25-02-2011                 4   \n",
       "2  23-05-1970      F        7.0     57872808744  24-07-2011                 4   \n",
       "3  01-06-1970      M        9.0     46129128420    2/1/2014                 4   \n",
       "4  01-06-1970      M        7.0     16839672501  29-01-2013                 4   \n",
       "\n",
       "   Qty  Rate      Tax  total_amt      Store_type  \n",
       "0    5   308  161.700   1701.700          e-Shop  \n",
       "1    4  1150  483.000   5083.000             MBR  \n",
       "2    1   359   37.695    396.695        TeleShop  \n",
       "3    3   515  162.225   1707.225          e-Shop  \n",
       "4    2  1282  269.220   2833.220  Flagship store  "
      ]
     },
     "execution_count": 10,
     "metadata": {},
     "output_type": "execute_result"
    }
   ],
   "source": [
    "market_data.head(5)"
   ]
  },
  {
   "cell_type": "code",
   "execution_count": 11,
   "metadata": {},
   "outputs": [],
   "source": [
    "market_data.drop('prod_sub_cat_code', axis=1, inplace = True)"
   ]
  },
  {
   "cell_type": "code",
   "execution_count": 12,
   "metadata": {},
   "outputs": [
    {
     "name": "stdout",
     "output_type": "stream",
     "text": [
      "(23053, 15)\n"
     ]
    },
    {
     "data": {
      "text/plain": [
       "Index(['prod_cat_code', 'prod_cat', 'prod_subcat', 'customer_Id', 'DOB',\n",
       "       'Gender', 'city_code', 'transaction_id', 'tran_date',\n",
       "       'prod_subcat_code', 'Qty', 'Rate', 'Tax', 'total_amt', 'Store_type'],\n",
       "      dtype='object')"
      ]
     },
     "execution_count": 12,
     "metadata": {},
     "output_type": "execute_result"
    }
   ],
   "source": [
    "print(market_data.shape)\n",
    "market_data.columns"
   ]
  },
  {
   "cell_type": "code",
   "execution_count": 13,
   "metadata": {},
   "outputs": [],
   "source": [
    "market_data = market_data[market_data.columns[[3,0,1,2,4,5,6,7,8,9,10,11,12,13,14]]]"
   ]
  },
  {
   "cell_type": "code",
   "execution_count": 14,
   "metadata": {},
   "outputs": [
    {
     "data": {
      "text/plain": [
       "customer_Id         0\n",
       "prod_cat_code       0\n",
       "prod_cat            0\n",
       "prod_subcat         0\n",
       "DOB                 0\n",
       "Gender              9\n",
       "city_code           8\n",
       "transaction_id      0\n",
       "tran_date           0\n",
       "prod_subcat_code    0\n",
       "Qty                 0\n",
       "Rate                0\n",
       "Tax                 0\n",
       "total_amt           0\n",
       "Store_type          0\n",
       "dtype: int64"
      ]
     },
     "execution_count": 14,
     "metadata": {},
     "output_type": "execute_result"
    }
   ],
   "source": [
    "market_data.isnull().sum()"
   ]
  },
  {
   "cell_type": "code",
   "execution_count": 15,
   "metadata": {},
   "outputs": [],
   "source": [
    "market_data.dropna(inplace = True)"
   ]
  },
  {
   "cell_type": "code",
   "execution_count": 16,
   "metadata": {},
   "outputs": [
    {
     "data": {
      "text/plain": [
       "<AxesSubplot:>"
      ]
     },
     "execution_count": 16,
     "metadata": {},
     "output_type": "execute_result"
    },
    {
     "data": {
      "image/png": "[encoded data removed]",
      "text/plain": [
       "<Figure size 432x288 with 1 Axes>"
      ]
     },
     "metadata": {
      "needs_background": "light"
     },
     "output_type": "display_data"
    }
   ],
   "source": [
    "sns.heatmap(market_data.isnull(),yticklabels=False,cbar=False,cmap='viridis')"
   ]
  },
  {
   "cell_type": "code",
   "execution_count": 17,
   "metadata": {},
   "outputs": [],
   "source": [
    "# i have merged all the dataset to one DataFrame called market_data so now i can perform the next task"
   ]
  },
  {
   "cell_type": "code",
   "execution_count": null,
   "metadata": {},
   "outputs": [],
   "source": []
  },
  {
   "cell_type": "markdown",
   "metadata": {},
   "source": [
    "# Data Analysis"
   ]
  },
  {
   "cell_type": "code",
   "execution_count": 18,
   "metadata": {},
   "outputs": [
    {
     "data": {
      "text/html": [
       "<div>\n",
       "<style scoped>\n",
       "    .dataframe tbody tr th:only-of-type {\n",
       "        vertical-align: middle;\n",
       "    }\n",
       "\n",
       "    .dataframe tbody tr th {\n",
       "        vertical-align: top;\n",
       "    }\n",
       "\n",
       "    .dataframe thead th {\n",
       "        text-align: right;\n",
       "    }\n",
       "</style>\n",
       "<table border=\"1\" class=\"dataframe\">\n",
       "  <thead>\n",
       "    <tr style=\"text-align: right;\">\n",
       "      <th></th>\n",
       "      <th>customer_Id</th>\n",
       "      <th>prod_cat_code</th>\n",
       "      <th>prod_cat</th>\n",
       "      <th>prod_subcat</th>\n",
       "      <th>DOB</th>\n",
       "      <th>Gender</th>\n",
       "      <th>city_code</th>\n",
       "      <th>transaction_id</th>\n",
       "      <th>tran_date</th>\n",
       "      <th>prod_subcat_code</th>\n",
       "      <th>Qty</th>\n",
       "      <th>Rate</th>\n",
       "      <th>Tax</th>\n",
       "      <th>total_amt</th>\n",
       "      <th>Store_type</th>\n",
       "    </tr>\n",
       "  </thead>\n",
       "  <tbody>\n",
       "    <tr>\n",
       "      <th>19322</th>\n",
       "      <td>270151</td>\n",
       "      <td>6</td>\n",
       "      <td>Home and kitchen</td>\n",
       "      <td>Furnishing</td>\n",
       "      <td>05-06-1979</td>\n",
       "      <td>M</td>\n",
       "      <td>10.0</td>\n",
       "      <td>84228260271</td>\n",
       "      <td>9/7/2012</td>\n",
       "      <td>2</td>\n",
       "      <td>4</td>\n",
       "      <td>1108</td>\n",
       "      <td>465.360</td>\n",
       "      <td>4897.360</td>\n",
       "      <td>MBR</td>\n",
       "    </tr>\n",
       "    <tr>\n",
       "      <th>7637</th>\n",
       "      <td>271607</td>\n",
       "      <td>3</td>\n",
       "      <td>Electronics</td>\n",
       "      <td>Computers</td>\n",
       "      <td>07-04-1986</td>\n",
       "      <td>M</td>\n",
       "      <td>6.0</td>\n",
       "      <td>91978694387</td>\n",
       "      <td>9/2/2012</td>\n",
       "      <td>5</td>\n",
       "      <td>3</td>\n",
       "      <td>1391</td>\n",
       "      <td>438.165</td>\n",
       "      <td>4611.165</td>\n",
       "      <td>Flagship store</td>\n",
       "    </tr>\n",
       "    <tr>\n",
       "      <th>2353</th>\n",
       "      <td>269407</td>\n",
       "      <td>1</td>\n",
       "      <td>Clothing</td>\n",
       "      <td>Kids</td>\n",
       "      <td>25-04-1978</td>\n",
       "      <td>F</td>\n",
       "      <td>1.0</td>\n",
       "      <td>82033355208</td>\n",
       "      <td>15-08-2012</td>\n",
       "      <td>3</td>\n",
       "      <td>2</td>\n",
       "      <td>1075</td>\n",
       "      <td>225.750</td>\n",
       "      <td>2375.750</td>\n",
       "      <td>e-Shop</td>\n",
       "    </tr>\n",
       "    <tr>\n",
       "      <th>7429</th>\n",
       "      <td>267285</td>\n",
       "      <td>3</td>\n",
       "      <td>Electronics</td>\n",
       "      <td>Computers</td>\n",
       "      <td>19-12-1980</td>\n",
       "      <td>M</td>\n",
       "      <td>10.0</td>\n",
       "      <td>66059466135</td>\n",
       "      <td>8/2/2013</td>\n",
       "      <td>5</td>\n",
       "      <td>2</td>\n",
       "      <td>119</td>\n",
       "      <td>24.990</td>\n",
       "      <td>262.990</td>\n",
       "      <td>e-Shop</td>\n",
       "    </tr>\n",
       "    <tr>\n",
       "      <th>8481</th>\n",
       "      <td>272031</td>\n",
       "      <td>3</td>\n",
       "      <td>Electronics</td>\n",
       "      <td>Personal Appliances</td>\n",
       "      <td>13-04-1982</td>\n",
       "      <td>F</td>\n",
       "      <td>1.0</td>\n",
       "      <td>8047741347</td>\n",
       "      <td>13-12-2012</td>\n",
       "      <td>8</td>\n",
       "      <td>-1</td>\n",
       "      <td>-575</td>\n",
       "      <td>60.375</td>\n",
       "      <td>-635.375</td>\n",
       "      <td>Flagship store</td>\n",
       "    </tr>\n",
       "  </tbody>\n",
       "</table>\n",
       "</div>"
      ],
      "text/plain": [
       "       customer_Id  prod_cat_code          prod_cat          prod_subcat  \\\n",
       "19322       270151              6  Home and kitchen           Furnishing   \n",
       "7637        271607              3       Electronics            Computers   \n",
       "2353        269407              1          Clothing                 Kids   \n",
       "7429        267285              3       Electronics            Computers   \n",
       "8481        272031              3       Electronics  Personal Appliances   \n",
       "\n",
       "              DOB Gender  city_code  transaction_id   tran_date  \\\n",
       "19322  05-06-1979      M       10.0     84228260271    9/7/2012   \n",
       "7637   07-04-1986      M        6.0     91978694387    9/2/2012   \n",
       "2353   25-04-1978      F        1.0     82033355208  15-08-2012   \n",
       "7429   19-12-1980      M       10.0     66059466135    8/2/2013   \n",
       "8481   13-04-1982      F        1.0      8047741347  13-12-2012   \n",
       "\n",
       "       prod_subcat_code  Qty  Rate      Tax  total_amt      Store_type  \n",
       "19322                 2    4  1108  465.360   4897.360             MBR  \n",
       "7637                  5    3  1391  438.165   4611.165  Flagship store  \n",
       "2353                  3    2  1075  225.750   2375.750          e-Shop  \n",
       "7429                  5    2   119   24.990    262.990          e-Shop  \n",
       "8481                  8   -1  -575   60.375   -635.375  Flagship store  "
      ]
     },
     "execution_count": 18,
     "metadata": {},
     "output_type": "execute_result"
    }
   ],
   "source": [
    "market_data.sample(5)"
   ]
  },
  {
   "cell_type": "code",
   "execution_count": 19,
   "metadata": {},
   "outputs": [
    {
     "data": {
      "text/plain": [
       "<AxesSubplot:xlabel='total_amt'>"
      ]
     },
     "execution_count": 19,
     "metadata": {},
     "output_type": "execute_result"
    },
    {
     "data": {
      "image/png": "[encoded data removed]",
      "text/plain": [
       "<Figure size 432x288 with 1 Axes>"
      ]
     },
     "metadata": {
      "needs_background": "light"
     },
     "output_type": "display_data"
    }
   ],
   "source": [
    "sns.boxplot(market_data['total_amt'])"
   ]
  },
  {
   "cell_type": "code",
   "execution_count": 20,
   "metadata": {},
   "outputs": [
    {
     "data": {
      "text/plain": [
       "(20860, 15)"
      ]
     },
     "execution_count": 20,
     "metadata": {},
     "output_type": "execute_result"
    }
   ],
   "source": [
    "market_data = market_data[market_data['total_amt']>0]\n",
    "market_data.shape"
   ]
  },
  {
   "cell_type": "code",
   "execution_count": 21,
   "metadata": {},
   "outputs": [
    {
     "data": {
      "text/plain": [
       "<AxesSubplot:xlabel='total_amt'>"
      ]
     },
     "execution_count": 21,
     "metadata": {},
     "output_type": "execute_result"
    },
    {
     "data": {
      "image/png": "[encoded data removed]",
      "text/plain": [
       "<Figure size 432x288 with 1 Axes>"
      ]
     },
     "metadata": {
      "needs_background": "light"
     },
     "output_type": "display_data"
    }
   ],
   "source": [
    "sns.boxplot(market_data['total_amt'])"
   ]
  },
  {
   "cell_type": "markdown",
   "metadata": {},
   "source": [
    "### In the above boxplot noticed that there are outliers, using percentile removed those outliers "
   ]
  },
  {
   "cell_type": "code",
   "execution_count": 22,
   "metadata": {},
   "outputs": [
    {
     "data": {
      "text/plain": [
       "(1030.965, 3825.51)"
      ]
     },
     "execution_count": 22,
     "metadata": {},
     "output_type": "execute_result"
    }
   ],
   "source": [
    "quantile1, quantile3= np.percentile(market_data['total_amt'],[25,75])\n",
    "quantile1, quantile3"
   ]
  },
  {
   "cell_type": "code",
   "execution_count": 23,
   "metadata": {},
   "outputs": [
    {
     "name": "stdout",
     "output_type": "stream",
     "text": [
      "2794.545\n"
     ]
    }
   ],
   "source": [
    "iqr_value=quantile3-quantile1\n",
    "print(iqr_value)"
   ]
  },
  {
   "cell_type": "code",
   "execution_count": 24,
   "metadata": {},
   "outputs": [
    {
     "name": "stdout",
     "output_type": "stream",
     "text": [
      "-2881.398 7737.873\n"
     ]
    }
   ],
   "source": [
    "lower_bound_val = quantile1 -(1.4 * iqr_value) \n",
    "upper_bound_val = quantile3 +(1.4 * iqr_value)\n",
    "print(lower_bound_val,upper_bound_val)"
   ]
  },
  {
   "cell_type": "code",
   "execution_count": null,
   "metadata": {},
   "outputs": [],
   "source": []
  },
  {
   "cell_type": "code",
   "execution_count": 25,
   "metadata": {},
   "outputs": [
    {
     "data": {
      "text/plain": [
       "(20551, 15)"
      ]
     },
     "execution_count": 25,
     "metadata": {},
     "output_type": "execute_result"
    }
   ],
   "source": [
    "market_data = market_data[(market_data.total_amt>lower_bound_val) & (market_data.total_amt<upper_bound_val)]\n",
    "market_data.shape"
   ]
  },
  {
   "cell_type": "markdown",
   "metadata": {},
   "source": [
    "### In the below boxplot we can see that there is no any outlier"
   ]
  },
  {
   "cell_type": "code",
   "execution_count": 26,
   "metadata": {},
   "outputs": [
    {
     "data": {
      "text/plain": [
       "<AxesSubplot:xlabel='total_amt'>"
      ]
     },
     "execution_count": 26,
     "metadata": {},
     "output_type": "execute_result"
    },
    {
     "data": {
      "image/png": "[encoded data removed]",
      "text/plain": [
       "<Figure size 432x288 with 1 Axes>"
      ]
     },
     "metadata": {
      "needs_background": "light"
     },
     "output_type": "display_data"
    }
   ],
   "source": [
    "sns.boxplot(market_data['total_amt'])"
   ]
  },
  {
   "cell_type": "code",
   "execution_count": 27,
   "metadata": {},
   "outputs": [
    {
     "data": {
      "text/html": [
       "<div>\n",
       "<style scoped>\n",
       "    .dataframe tbody tr th:only-of-type {\n",
       "        vertical-align: middle;\n",
       "    }\n",
       "\n",
       "    .dataframe tbody tr th {\n",
       "        vertical-align: top;\n",
       "    }\n",
       "\n",
       "    .dataframe thead th {\n",
       "        text-align: right;\n",
       "    }\n",
       "</style>\n",
       "<table border=\"1\" class=\"dataframe\">\n",
       "  <thead>\n",
       "    <tr style=\"text-align: right;\">\n",
       "      <th></th>\n",
       "      <th>customer_Id</th>\n",
       "      <th>prod_cat_code</th>\n",
       "      <th>prod_cat</th>\n",
       "      <th>prod_subcat</th>\n",
       "      <th>DOB</th>\n",
       "      <th>Gender</th>\n",
       "      <th>city_code</th>\n",
       "      <th>transaction_id</th>\n",
       "      <th>tran_date</th>\n",
       "      <th>prod_subcat_code</th>\n",
       "      <th>Qty</th>\n",
       "      <th>Rate</th>\n",
       "      <th>Tax</th>\n",
       "      <th>total_amt</th>\n",
       "      <th>Store_type</th>\n",
       "    </tr>\n",
       "  </thead>\n",
       "  <tbody>\n",
       "    <tr>\n",
       "      <th>0</th>\n",
       "      <td>275152</td>\n",
       "      <td>1</td>\n",
       "      <td>Clothing</td>\n",
       "      <td>Mens</td>\n",
       "      <td>16-01-1970</td>\n",
       "      <td>M</td>\n",
       "      <td>4.0</td>\n",
       "      <td>77756237112</td>\n",
       "      <td>10/9/2013</td>\n",
       "      <td>4</td>\n",
       "      <td>5</td>\n",
       "      <td>308</td>\n",
       "      <td>161.700</td>\n",
       "      <td>1701.700</td>\n",
       "      <td>e-Shop</td>\n",
       "    </tr>\n",
       "    <tr>\n",
       "      <th>1</th>\n",
       "      <td>268732</td>\n",
       "      <td>1</td>\n",
       "      <td>Clothing</td>\n",
       "      <td>Mens</td>\n",
       "      <td>06-05-1970</td>\n",
       "      <td>M</td>\n",
       "      <td>2.0</td>\n",
       "      <td>36887501268</td>\n",
       "      <td>25-02-2011</td>\n",
       "      <td>4</td>\n",
       "      <td>4</td>\n",
       "      <td>1150</td>\n",
       "      <td>483.000</td>\n",
       "      <td>5083.000</td>\n",
       "      <td>MBR</td>\n",
       "    </tr>\n",
       "    <tr>\n",
       "      <th>2</th>\n",
       "      <td>271045</td>\n",
       "      <td>1</td>\n",
       "      <td>Clothing</td>\n",
       "      <td>Mens</td>\n",
       "      <td>23-05-1970</td>\n",
       "      <td>F</td>\n",
       "      <td>7.0</td>\n",
       "      <td>57872808744</td>\n",
       "      <td>24-07-2011</td>\n",
       "      <td>4</td>\n",
       "      <td>1</td>\n",
       "      <td>359</td>\n",
       "      <td>37.695</td>\n",
       "      <td>396.695</td>\n",
       "      <td>TeleShop</td>\n",
       "    </tr>\n",
       "    <tr>\n",
       "      <th>3</th>\n",
       "      <td>268627</td>\n",
       "      <td>1</td>\n",
       "      <td>Clothing</td>\n",
       "      <td>Mens</td>\n",
       "      <td>01-06-1970</td>\n",
       "      <td>M</td>\n",
       "      <td>9.0</td>\n",
       "      <td>46129128420</td>\n",
       "      <td>2/1/2014</td>\n",
       "      <td>4</td>\n",
       "      <td>3</td>\n",
       "      <td>515</td>\n",
       "      <td>162.225</td>\n",
       "      <td>1707.225</td>\n",
       "      <td>e-Shop</td>\n",
       "    </tr>\n",
       "    <tr>\n",
       "      <th>4</th>\n",
       "      <td>270430</td>\n",
       "      <td>1</td>\n",
       "      <td>Clothing</td>\n",
       "      <td>Mens</td>\n",
       "      <td>01-06-1970</td>\n",
       "      <td>M</td>\n",
       "      <td>7.0</td>\n",
       "      <td>16839672501</td>\n",
       "      <td>29-01-2013</td>\n",
       "      <td>4</td>\n",
       "      <td>2</td>\n",
       "      <td>1282</td>\n",
       "      <td>269.220</td>\n",
       "      <td>2833.220</td>\n",
       "      <td>Flagship store</td>\n",
       "    </tr>\n",
       "  </tbody>\n",
       "</table>\n",
       "</div>"
      ],
      "text/plain": [
       "   customer_Id  prod_cat_code  prod_cat prod_subcat         DOB Gender  \\\n",
       "0       275152              1  Clothing        Mens  16-01-1970      M   \n",
       "1       268732              1  Clothing        Mens  06-05-1970      M   \n",
       "2       271045              1  Clothing        Mens  23-05-1970      F   \n",
       "3       268627              1  Clothing        Mens  01-06-1970      M   \n",
       "4       270430              1  Clothing        Mens  01-06-1970      M   \n",
       "\n",
       "   city_code  transaction_id   tran_date  prod_subcat_code  Qty  Rate  \\\n",
       "0        4.0     77756237112   10/9/2013                 4    5   308   \n",
       "1        2.0     36887501268  25-02-2011                 4    4  1150   \n",
       "2        7.0     57872808744  24-07-2011                 4    1   359   \n",
       "3        9.0     46129128420    2/1/2014                 4    3   515   \n",
       "4        7.0     16839672501  29-01-2013                 4    2  1282   \n",
       "\n",
       "       Tax  total_amt      Store_type  \n",
       "0  161.700   1701.700          e-Shop  \n",
       "1  483.000   5083.000             MBR  \n",
       "2   37.695    396.695        TeleShop  \n",
       "3  162.225   1707.225          e-Shop  \n",
       "4  269.220   2833.220  Flagship store  "
      ]
     },
     "execution_count": 27,
     "metadata": {},
     "output_type": "execute_result"
    }
   ],
   "source": [
    "market_data.head()"
   ]
  },
  {
   "cell_type": "code",
   "execution_count": 28,
   "metadata": {},
   "outputs": [
    {
     "data": {
      "text/plain": [
       "3.0     2165\n",
       "4.0     2159\n",
       "5.0     2107\n",
       "7.0     2097\n",
       "10.0    2080\n",
       "8.0     2062\n",
       "1.0     2028\n",
       "2.0     2010\n",
       "9.0     1944\n",
       "6.0     1899\n",
       "Name: city_code, dtype: int64"
      ]
     },
     "execution_count": 28,
     "metadata": {},
     "output_type": "execute_result"
    }
   ],
   "source": [
    "market_data['city_code'].value_counts()"
   ]
  },
  {
   "cell_type": "code",
   "execution_count": 29,
   "metadata": {},
   "outputs": [
    {
     "data": {
      "text/plain": [
       "e-Shop            8291\n",
       "MBR               4142\n",
       "Flagship store    4088\n",
       "TeleShop          4030\n",
       "Name: Store_type, dtype: int64"
      ]
     },
     "execution_count": 29,
     "metadata": {},
     "output_type": "execute_result"
    }
   ],
   "source": [
    "market_data['Store_type'].value_counts()"
   ]
  },
  {
   "cell_type": "markdown",
   "metadata": {},
   "source": [
    "### product category vise sale"
   ]
  },
  {
   "cell_type": "code",
   "execution_count": 71,
   "metadata": {},
   "outputs": [
    {
     "data": {
      "text/plain": [
       "<AxesSubplot:xlabel='prod_cat', ylabel='total_amt'>"
      ]
     },
     "execution_count": 71,
     "metadata": {},
     "output_type": "execute_result"
    },
    {
     "data": {
      "image/png": "[encoded data removed]",
      "text/plain": [
       "<Figure size 1080x576 with 1 Axes>"
      ]
     },
     "metadata": {
      "needs_background": "light"
     },
     "output_type": "display_data"
    }
   ],
   "source": [
    "fig = plt.gcf()\n",
    "fig.set_size_inches(15, 8)\n",
    "sns.barplot(x='prod_cat', y='total_amt', data = market_data)"
   ]
  },
  {
   "cell_type": "code",
   "execution_count": null,
   "metadata": {},
   "outputs": [],
   "source": []
  },
  {
   "cell_type": "markdown",
   "metadata": {},
   "source": [
    "### which type product Male/Female buy most"
   ]
  },
  {
   "cell_type": "code",
   "execution_count": 31,
   "metadata": {},
   "outputs": [
    {
     "data": {
      "image/png": "[encoded data removed]",
      "text/plain": [
       "<Figure size 1080x576 with 1 Axes>"
      ]
     },
     "metadata": {
      "needs_background": "light"
     },
     "output_type": "display_data"
    }
   ],
   "source": [
    "fig = plt.gcf()\n",
    "fig.set_size_inches(15, 8)\n",
    "sns.barplot(x='prod_subcat', y='total_amt',hue = 'Gender', data = market_data)\n",
    "rotation = plt.xticks(rotation = 90)"
   ]
  },
  {
   "cell_type": "code",
   "execution_count": null,
   "metadata": {},
   "outputs": [],
   "source": []
  },
  {
   "cell_type": "markdown",
   "metadata": {},
   "source": [
    " ### from which sources products ordered / ordered most and there total amount"
   ]
  },
  {
   "cell_type": "code",
   "execution_count": 32,
   "metadata": {},
   "outputs": [
    {
     "data": {
      "image/png": "[encoded data removed]",
      "text/plain": [
       "<Figure size 1080x576 with 1 Axes>"
      ]
     },
     "metadata": {
      "needs_background": "light"
     },
     "output_type": "display_data"
    }
   ],
   "source": [
    "fig = plt.gcf()\n",
    "fig.set_size_inches(15, 8)\n",
    "sns.barplot(x='prod_subcat', y='total_amt',hue = 'Store_type', data = market_data)\n",
    "rotation = plt.xticks(rotation = 90)"
   ]
  },
  {
   "cell_type": "markdown",
   "metadata": {},
   "source": [
    "### which products with store type have more tax "
   ]
  },
  {
   "cell_type": "code",
   "execution_count": 80,
   "metadata": {},
   "outputs": [
    {
     "data": {
      "text/plain": [
       "<AxesSubplot:xlabel='prod_cat', ylabel='Tax'>"
      ]
     },
     "execution_count": 80,
     "metadata": {},
     "output_type": "execute_result"
    },
    {
     "data": {
      "image/png": "[encoded data removed]",
      "text/plain": [
       "<Figure size 1080x576 with 1 Axes>"
      ]
     },
     "metadata": {
      "needs_background": "light"
     },
     "output_type": "display_data"
    }
   ],
   "source": [
    "fig = plt.gcf()\n",
    "fig.set_size_inches(15, 8)\n",
    "sns.barplot(x='prod_cat', y='Tax', hue = 'Store_type', data = market_data)"
   ]
  },
  {
   "cell_type": "markdown",
   "metadata": {},
   "source": [
    "### Which products have sold most "
   ]
  },
  {
   "cell_type": "code",
   "execution_count": null,
   "metadata": {},
   "outputs": [],
   "source": [
    "fig = plt.gcf()\n",
    "fig.set_size_inches(15, 8)\n",
    "sns.barplot(x='prod_subcat', y='total_amt', data = market_data)\n",
    "rotation = plt.xticks(rotation = 90)"
   ]
  },
  {
   "cell_type": "markdown",
   "metadata": {},
   "source": [
    "###  Tax is depend on the Rate of products sold"
   ]
  },
  {
   "cell_type": "code",
   "execution_count": 90,
   "metadata": {},
   "outputs": [
    {
     "data": {
      "text/plain": [
       "<AxesSubplot:xlabel='Tax', ylabel='Rate'>"
      ]
     },
     "execution_count": 90,
     "metadata": {},
     "output_type": "execute_result"
    },
    {
     "data": {
      "image/png": "[encoded data removed]",
      "text/plain": [
       "<Figure size 432x288 with 1 Axes>"
      ]
     },
     "metadata": {},
     "output_type": "display_data"
    }
   ],
   "source": [
    "# this will take sometime to plot\n",
    "sns.set_style(\"darkgrid\")\n",
    "sns.scatterplot(x = 'Tax', y = 'Rate', hue= 'Store_type', data = market_data)"
   ]
  },
  {
   "cell_type": "markdown",
   "metadata": {},
   "source": [
    "### who are buying the products most (Male/Female)"
   ]
  },
  {
   "cell_type": "code",
   "execution_count": 35,
   "metadata": {},
   "outputs": [
    {
     "data": {
      "image/png": "[encoded data removed]",
      "text/plain": [
       "<Figure size 720x432 with 1 Axes>"
      ]
     },
     "metadata": {},
     "output_type": "display_data"
    }
   ],
   "source": [
    "fig = plt.gcf()\n",
    "fig.set_size_inches(10, 6)\n",
    "counts = market_data.Gender.value_counts()\n",
    "plt.pie(counts, autopct='%1.1f%%',\n",
    "        labels=counts.index, shadow=True)\n",
    "plt.title('Counts Of Male Vs Female')\n",
    "plt.show()"
   ]
  },
  {
   "cell_type": "markdown",
   "metadata": {},
   "source": [
    "### who have purchased in more amount (Male/Female)"
   ]
  },
  {
   "cell_type": "code",
   "execution_count": 36,
   "metadata": {},
   "outputs": [
    {
     "data": {
      "image/png": "[encoded data removed]",
      "text/plain": [
       "<Figure size 720x432 with 1 Axes>"
      ]
     },
     "metadata": {},
     "output_type": "display_data"
    }
   ],
   "source": [
    "group_gender = market_data.groupby('Gender').sum()['total_amt']\n",
    " \n",
    "fig = plt.gcf()\n",
    "fig.set_size_inches(10, 6)\n",
    "plt.pie(group_gender, autopct='%1.1f%%',\n",
    "        labels=['Male','Female'], shadow=True)\n",
    "plt.title('Total Amout Of Male Vs Female')\n",
    "plt.show()"
   ]
  },
  {
   "cell_type": "markdown",
   "metadata": {},
   "source": [
    "### who have purchased the more products and what was the medium of buying (store type)"
   ]
  },
  {
   "cell_type": "code",
   "execution_count": 51,
   "metadata": {},
   "outputs": [
    {
     "data": {
      "text/html": [
       "<div>\n",
       "<style scoped>\n",
       "    .dataframe tbody tr th:only-of-type {\n",
       "        vertical-align: middle;\n",
       "    }\n",
       "\n",
       "    .dataframe tbody tr th {\n",
       "        vertical-align: top;\n",
       "    }\n",
       "\n",
       "    .dataframe thead tr th {\n",
       "        text-align: left;\n",
       "    }\n",
       "\n",
       "    .dataframe thead tr:last-of-type th {\n",
       "        text-align: right;\n",
       "    }\n",
       "</style>\n",
       "<table border=\"1\" class=\"dataframe\">\n",
       "  <thead>\n",
       "    <tr>\n",
       "      <th></th>\n",
       "      <th colspan=\"2\" halign=\"left\">total_amt</th>\n",
       "    </tr>\n",
       "    <tr>\n",
       "      <th>Gender</th>\n",
       "      <th>F</th>\n",
       "      <th>M</th>\n",
       "    </tr>\n",
       "    <tr>\n",
       "      <th>Store_type</th>\n",
       "      <th></th>\n",
       "      <th></th>\n",
       "    </tr>\n",
       "  </thead>\n",
       "  <tbody>\n",
       "    <tr>\n",
       "      <th>Flagship store</th>\n",
       "      <td>5107825.0</td>\n",
       "      <td>5357743.0</td>\n",
       "    </tr>\n",
       "    <tr>\n",
       "      <th>MBR</th>\n",
       "      <td>5143220.0</td>\n",
       "      <td>5228449.0</td>\n",
       "    </tr>\n",
       "    <tr>\n",
       "      <th>TeleShop</th>\n",
       "      <td>4825801.0</td>\n",
       "      <td>5171083.0</td>\n",
       "    </tr>\n",
       "    <tr>\n",
       "      <th>e-Shop</th>\n",
       "      <td>10340050.0</td>\n",
       "      <td>10766552.0</td>\n",
       "    </tr>\n",
       "  </tbody>\n",
       "</table>\n",
       "</div>"
      ],
      "text/plain": [
       "                 total_amt            \n",
       "Gender                   F           M\n",
       "Store_type                            \n",
       "Flagship store   5107825.0   5357743.0\n",
       "MBR              5143220.0   5228449.0\n",
       "TeleShop         4825801.0   5171083.0\n",
       "e-Shop          10340050.0  10766552.0"
      ]
     },
     "execution_count": 51,
     "metadata": {},
     "output_type": "execute_result"
    }
   ],
   "source": [
    "gender_store_type = market_data[['Gender','Store_type','total_amt']]\n",
    "gender_store_type_group = gender_store_type.groupby(['Gender','Store_type'],as_index=False).sum().round()\n",
    "gender_store_type_group_pivot = gender_store_type_group.pivot(index='Store_type',columns='Gender')\n",
    "gender_store_type_group_pivot"
   ]
  },
  {
   "cell_type": "code",
   "execution_count": 49,
   "metadata": {},
   "outputs": [
    {
     "data": {
      "text/plain": [
       "Text(0.5, 1.0, '\\nTotal Amount by Gender and Store Type\\n')"
      ]
     },
     "execution_count": 49,
     "metadata": {},
     "output_type": "execute_result"
    },
    {
     "data": {
      "image/png": "[encoded data removed]",
      "text/plain": [
       "<Figure size 720x432 with 2 Axes>"
      ]
     },
     "metadata": {
      "needs_background": "light"
     },
     "output_type": "display_data"
    }
   ],
   "source": [
    "fig = plt.gcf()\n",
    "fig.set_size_inches(10, 6)\n",
    "sns.heatmap(gender_store_type_group_pivot, annot = True, cmap='Greens')\n",
    "plt.title('\\nTotal Amount by Gender and Store Type\\n')"
   ]
  },
  {
   "cell_type": "markdown",
   "metadata": {},
   "source": [
    "### which city have purchased the more products and what was the medium of buying (store type)"
   ]
  },
  {
   "cell_type": "code",
   "execution_count": 52,
   "metadata": {},
   "outputs": [
    {
     "data": {
      "text/html": [
       "<div>\n",
       "<style scoped>\n",
       "    .dataframe tbody tr th:only-of-type {\n",
       "        vertical-align: middle;\n",
       "    }\n",
       "\n",
       "    .dataframe tbody tr th {\n",
       "        vertical-align: top;\n",
       "    }\n",
       "\n",
       "    .dataframe thead tr th {\n",
       "        text-align: left;\n",
       "    }\n",
       "\n",
       "    .dataframe thead tr:last-of-type th {\n",
       "        text-align: right;\n",
       "    }\n",
       "</style>\n",
       "<table border=\"1\" class=\"dataframe\">\n",
       "  <thead>\n",
       "    <tr>\n",
       "      <th></th>\n",
       "      <th colspan=\"4\" halign=\"left\">total_amt</th>\n",
       "    </tr>\n",
       "    <tr>\n",
       "      <th>Store_type</th>\n",
       "      <th>Flagship store</th>\n",
       "      <th>MBR</th>\n",
       "      <th>TeleShop</th>\n",
       "      <th>e-Shop</th>\n",
       "    </tr>\n",
       "    <tr>\n",
       "      <th>city_code</th>\n",
       "      <th></th>\n",
       "      <th></th>\n",
       "      <th></th>\n",
       "      <th></th>\n",
       "    </tr>\n",
       "  </thead>\n",
       "  <tbody>\n",
       "    <tr>\n",
       "      <th>1.0</th>\n",
       "      <td>999463.0</td>\n",
       "      <td>1088687.0</td>\n",
       "      <td>961026.0</td>\n",
       "      <td>2004992.0</td>\n",
       "    </tr>\n",
       "    <tr>\n",
       "      <th>2.0</th>\n",
       "      <td>1044573.0</td>\n",
       "      <td>954355.0</td>\n",
       "      <td>1021956.0</td>\n",
       "      <td>2165183.0</td>\n",
       "    </tr>\n",
       "    <tr>\n",
       "      <th>3.0</th>\n",
       "      <td>1201607.0</td>\n",
       "      <td>1086791.0</td>\n",
       "      <td>1017385.0</td>\n",
       "      <td>2170931.0</td>\n",
       "    </tr>\n",
       "    <tr>\n",
       "      <th>4.0</th>\n",
       "      <td>996017.0</td>\n",
       "      <td>1065931.0</td>\n",
       "      <td>1126949.0</td>\n",
       "      <td>2197165.0</td>\n",
       "    </tr>\n",
       "    <tr>\n",
       "      <th>5.0</th>\n",
       "      <td>1024096.0</td>\n",
       "      <td>1055967.0</td>\n",
       "      <td>983283.0</td>\n",
       "      <td>2184099.0</td>\n",
       "    </tr>\n",
       "    <tr>\n",
       "      <th>6.0</th>\n",
       "      <td>912494.0</td>\n",
       "      <td>1025948.0</td>\n",
       "      <td>844858.0</td>\n",
       "      <td>1890105.0</td>\n",
       "    </tr>\n",
       "    <tr>\n",
       "      <th>7.0</th>\n",
       "      <td>1102541.0</td>\n",
       "      <td>1034367.0</td>\n",
       "      <td>1009192.0</td>\n",
       "      <td>2168459.0</td>\n",
       "    </tr>\n",
       "    <tr>\n",
       "      <th>8.0</th>\n",
       "      <td>1012370.0</td>\n",
       "      <td>1045738.0</td>\n",
       "      <td>1021521.0</td>\n",
       "      <td>2156252.0</td>\n",
       "    </tr>\n",
       "    <tr>\n",
       "      <th>9.0</th>\n",
       "      <td>1054761.0</td>\n",
       "      <td>933208.0</td>\n",
       "      <td>924808.0</td>\n",
       "      <td>2084261.0</td>\n",
       "    </tr>\n",
       "    <tr>\n",
       "      <th>10.0</th>\n",
       "      <td>1117646.0</td>\n",
       "      <td>1080678.0</td>\n",
       "      <td>1085908.0</td>\n",
       "      <td>2085156.0</td>\n",
       "    </tr>\n",
       "  </tbody>\n",
       "</table>\n",
       "</div>"
      ],
      "text/plain": [
       "                total_amt                                 \n",
       "Store_type Flagship store        MBR   TeleShop     e-Shop\n",
       "city_code                                                 \n",
       "1.0              999463.0  1088687.0   961026.0  2004992.0\n",
       "2.0             1044573.0   954355.0  1021956.0  2165183.0\n",
       "3.0             1201607.0  1086791.0  1017385.0  2170931.0\n",
       "4.0              996017.0  1065931.0  1126949.0  2197165.0\n",
       "5.0             1024096.0  1055967.0   983283.0  2184099.0\n",
       "6.0              912494.0  1025948.0   844858.0  1890105.0\n",
       "7.0             1102541.0  1034367.0  1009192.0  2168459.0\n",
       "8.0             1012370.0  1045738.0  1021521.0  2156252.0\n",
       "9.0             1054761.0   933208.0   924808.0  2084261.0\n",
       "10.0            1117646.0  1080678.0  1085908.0  2085156.0"
      ]
     },
     "execution_count": 52,
     "metadata": {},
     "output_type": "execute_result"
    }
   ],
   "source": [
    "city_store = market_data[['Store_type','city_code','total_amt']]\n",
    "city_store_group = city_store.groupby(['Store_type','city_code'],as_index=False).sum().round()\n",
    "city_store_group_pivot = city_store_group.pivot(index='city_code',columns='Store_type')\n",
    "city_store_group_pivot"
   ]
  },
  {
   "cell_type": "code",
   "execution_count": 40,
   "metadata": {},
   "outputs": [
    {
     "data": {
      "text/plain": [
       "Text(0.5, 1.0, '\\nTotal Amount by City Code and Store Type\\n')"
      ]
     },
     "execution_count": 40,
     "metadata": {},
     "output_type": "execute_result"
    },
    {
     "data": {
      "image/png": "[encoded data removed]",
      "text/plain": [
       "<Figure size 720x432 with 2 Axes>"
      ]
     },
     "metadata": {
      "needs_background": "light"
     },
     "output_type": "display_data"
    }
   ],
   "source": [
    "fig = plt.gcf()\n",
    "fig.set_size_inches(10, 6)\n",
    "sns.heatmap(city_store_group_pivot, annot = True, cmap = 'cividis')\n",
    "plt.title('\\nTotal Amount by City Code and Store Type\\n')"
   ]
  },
  {
   "cell_type": "code",
   "execution_count": 41,
   "metadata": {},
   "outputs": [
    {
     "data": {
      "text/plain": [
       "Books               5404\n",
       "Electronics         4400\n",
       "Home and kitchen    3678\n",
       "Footwear            2679\n",
       "Clothing            2629\n",
       "Bags                1761\n",
       "Name: prod_cat, dtype: int64"
      ]
     },
     "execution_count": 41,
     "metadata": {},
     "output_type": "execute_result"
    }
   ],
   "source": [
    "market_data['prod_cat'].value_counts()"
   ]
  },
  {
   "cell_type": "markdown",
   "metadata": {},
   "source": [
    "### which category products has sold more and  what were the medium of buying (store type)"
   ]
  },
  {
   "cell_type": "code",
   "execution_count": 55,
   "metadata": {},
   "outputs": [
    {
     "data": {
      "text/html": [
       "<div>\n",
       "<style scoped>\n",
       "    .dataframe tbody tr th:only-of-type {\n",
       "        vertical-align: middle;\n",
       "    }\n",
       "\n",
       "    .dataframe tbody tr th {\n",
       "        vertical-align: top;\n",
       "    }\n",
       "\n",
       "    .dataframe thead tr th {\n",
       "        text-align: left;\n",
       "    }\n",
       "\n",
       "    .dataframe thead tr:last-of-type th {\n",
       "        text-align: right;\n",
       "    }\n",
       "</style>\n",
       "<table border=\"1\" class=\"dataframe\">\n",
       "  <thead>\n",
       "    <tr>\n",
       "      <th></th>\n",
       "      <th colspan=\"4\" halign=\"left\">total_amt</th>\n",
       "    </tr>\n",
       "    <tr>\n",
       "      <th>Store_type</th>\n",
       "      <th>Flagship store</th>\n",
       "      <th>MBR</th>\n",
       "      <th>TeleShop</th>\n",
       "      <th>e-Shop</th>\n",
       "    </tr>\n",
       "    <tr>\n",
       "      <th>prod_cat</th>\n",
       "      <th></th>\n",
       "      <th></th>\n",
       "      <th></th>\n",
       "      <th></th>\n",
       "    </tr>\n",
       "  </thead>\n",
       "  <tbody>\n",
       "    <tr>\n",
       "      <th>Bags</th>\n",
       "      <td>936641.0</td>\n",
       "      <td>927347.0</td>\n",
       "      <td>868664.0</td>\n",
       "      <td>1734417.0</td>\n",
       "    </tr>\n",
       "    <tr>\n",
       "      <th>Books</th>\n",
       "      <td>2771785.0</td>\n",
       "      <td>2700877.0</td>\n",
       "      <td>2640372.0</td>\n",
       "      <td>5641584.0</td>\n",
       "    </tr>\n",
       "    <tr>\n",
       "      <th>Clothing</th>\n",
       "      <td>1259655.0</td>\n",
       "      <td>1394542.0</td>\n",
       "      <td>1354331.0</td>\n",
       "      <td>2703610.0</td>\n",
       "    </tr>\n",
       "    <tr>\n",
       "      <th>Electronics</th>\n",
       "      <td>2351021.0</td>\n",
       "      <td>2162778.0</td>\n",
       "      <td>2100904.0</td>\n",
       "      <td>4569386.0</td>\n",
       "    </tr>\n",
       "    <tr>\n",
       "      <th>Footwear</th>\n",
       "      <td>1354738.0</td>\n",
       "      <td>1249721.0</td>\n",
       "      <td>1331924.0</td>\n",
       "      <td>2811147.0</td>\n",
       "    </tr>\n",
       "    <tr>\n",
       "      <th>Home and kitchen</th>\n",
       "      <td>1791728.0</td>\n",
       "      <td>1936404.0</td>\n",
       "      <td>1700689.0</td>\n",
       "      <td>3646458.0</td>\n",
       "    </tr>\n",
       "  </tbody>\n",
       "</table>\n",
       "</div>"
      ],
      "text/plain": [
       "                      total_amt                                 \n",
       "Store_type       Flagship store        MBR   TeleShop     e-Shop\n",
       "prod_cat                                                        \n",
       "Bags                   936641.0   927347.0   868664.0  1734417.0\n",
       "Books                 2771785.0  2700877.0  2640372.0  5641584.0\n",
       "Clothing              1259655.0  1394542.0  1354331.0  2703610.0\n",
       "Electronics           2351021.0  2162778.0  2100904.0  4569386.0\n",
       "Footwear              1354738.0  1249721.0  1331924.0  2811147.0\n",
       "Home and kitchen      1791728.0  1936404.0  1700689.0  3646458.0"
      ]
     },
     "execution_count": 55,
     "metadata": {},
     "output_type": "execute_result"
    }
   ],
   "source": [
    "product_store = market_data[['prod_cat','Store_type','total_amt']]\n",
    "product_store_group = product_store.groupby(['prod_cat','Store_type'],as_index=False).sum().round()\n",
    "product_store_group_pivot = product_store_group.pivot(index='prod_cat',columns='Store_type')\n",
    "product_store_group_pivot"
   ]
  },
  {
   "cell_type": "code",
   "execution_count": 56,
   "metadata": {},
   "outputs": [
    {
     "data": {
      "text/plain": [
       "Text(0.5, 1.0, '\\nTotal Amount by Product Category and Store Type\\n')"
      ]
     },
     "execution_count": 56,
     "metadata": {},
     "output_type": "execute_result"
    },
    {
     "data": {
      "image/png": "[encoded data removed]",
      "text/plain": [
       "<Figure size 720x432 with 2 Axes>"
      ]
     },
     "metadata": {
      "needs_background": "light"
     },
     "output_type": "display_data"
    }
   ],
   "source": [
    "fig = plt.gcf()\n",
    "fig.set_size_inches(10, 6)\n",
    "sns.heatmap(product_store_group_pivot, annot = True, cmap='coolwarm')\n",
    "plt.title('\\nTotal Amount by Product Category and Store Type\\n')"
   ]
  },
  {
   "cell_type": "markdown",
   "metadata": {},
   "source": [
    "### who have purchased the more products and those were from which city and what was the medium of buying (store type)"
   ]
  },
  {
   "cell_type": "code",
   "execution_count": 57,
   "metadata": {},
   "outputs": [
    {
     "data": {
      "text/html": [
       "<div>\n",
       "<style scoped>\n",
       "    .dataframe tbody tr th:only-of-type {\n",
       "        vertical-align: middle;\n",
       "    }\n",
       "\n",
       "    .dataframe tbody tr th {\n",
       "        vertical-align: top;\n",
       "    }\n",
       "\n",
       "    .dataframe thead tr th {\n",
       "        text-align: left;\n",
       "    }\n",
       "\n",
       "    .dataframe thead tr:last-of-type th {\n",
       "        text-align: right;\n",
       "    }\n",
       "</style>\n",
       "<table border=\"1\" class=\"dataframe\">\n",
       "  <thead>\n",
       "    <tr>\n",
       "      <th></th>\n",
       "      <th colspan=\"2\" halign=\"left\">total_amt</th>\n",
       "    </tr>\n",
       "    <tr>\n",
       "      <th>Gender</th>\n",
       "      <th>F</th>\n",
       "      <th>M</th>\n",
       "    </tr>\n",
       "    <tr>\n",
       "      <th>city_code</th>\n",
       "      <th></th>\n",
       "      <th></th>\n",
       "    </tr>\n",
       "  </thead>\n",
       "  <tbody>\n",
       "    <tr>\n",
       "      <th>1.0</th>\n",
       "      <td>2608267.0</td>\n",
       "      <td>2445900.0</td>\n",
       "    </tr>\n",
       "    <tr>\n",
       "      <th>2.0</th>\n",
       "      <td>2369600.0</td>\n",
       "      <td>2816468.0</td>\n",
       "    </tr>\n",
       "    <tr>\n",
       "      <th>3.0</th>\n",
       "      <td>2508459.0</td>\n",
       "      <td>2968253.0</td>\n",
       "    </tr>\n",
       "    <tr>\n",
       "      <th>4.0</th>\n",
       "      <td>2529220.0</td>\n",
       "      <td>2856842.0</td>\n",
       "    </tr>\n",
       "    <tr>\n",
       "      <th>5.0</th>\n",
       "      <td>2584217.0</td>\n",
       "      <td>2663228.0</td>\n",
       "    </tr>\n",
       "    <tr>\n",
       "      <th>6.0</th>\n",
       "      <td>2387431.0</td>\n",
       "      <td>2285973.0</td>\n",
       "    </tr>\n",
       "    <tr>\n",
       "      <th>7.0</th>\n",
       "      <td>2934721.0</td>\n",
       "      <td>2379838.0</td>\n",
       "    </tr>\n",
       "    <tr>\n",
       "      <th>8.0</th>\n",
       "      <td>2067999.0</td>\n",
       "      <td>3167881.0</td>\n",
       "    </tr>\n",
       "    <tr>\n",
       "      <th>9.0</th>\n",
       "      <td>2611165.0</td>\n",
       "      <td>2385873.0</td>\n",
       "    </tr>\n",
       "    <tr>\n",
       "      <th>10.0</th>\n",
       "      <td>2815817.0</td>\n",
       "      <td>2553570.0</td>\n",
       "    </tr>\n",
       "  </tbody>\n",
       "</table>\n",
       "</div>"
      ],
      "text/plain": [
       "           total_amt           \n",
       "Gender             F          M\n",
       "city_code                      \n",
       "1.0        2608267.0  2445900.0\n",
       "2.0        2369600.0  2816468.0\n",
       "3.0        2508459.0  2968253.0\n",
       "4.0        2529220.0  2856842.0\n",
       "5.0        2584217.0  2663228.0\n",
       "6.0        2387431.0  2285973.0\n",
       "7.0        2934721.0  2379838.0\n",
       "8.0        2067999.0  3167881.0\n",
       "9.0        2611165.0  2385873.0\n",
       "10.0       2815817.0  2553570.0"
      ]
     },
     "execution_count": 57,
     "metadata": {},
     "output_type": "execute_result"
    }
   ],
   "source": [
    "city_gender = market_data[['Gender','city_code','total_amt']]\n",
    "city_gender_group = city_gender.groupby(['Gender','city_code'],as_index=False).sum().round()\n",
    "city_gender_group_pivot = city_gender_group.pivot(index='city_code',columns='Gender')\n",
    "city_gender_group_pivot"
   ]
  },
  {
   "cell_type": "code",
   "execution_count": 58,
   "metadata": {},
   "outputs": [
    {
     "data": {
      "text/plain": [
       "Text(0.5, 1.0, '\\nTotal Amount by city Code and Gender\\n')"
      ]
     },
     "execution_count": 58,
     "metadata": {},
     "output_type": "execute_result"
    },
    {
     "data": {
      "image/png": "[encoded data removed]",
      "text/plain": [
       "<Figure size 720x432 with 2 Axes>"
      ]
     },
     "metadata": {
      "needs_background": "light"
     },
     "output_type": "display_data"
    }
   ],
   "source": [
    "fig = plt.gcf()\n",
    "fig.set_size_inches(10, 6)\n",
    "sns.heatmap(city_gender_group_pivot, annot = True, cmap='coolwarm')\n",
    "plt.title('\\nTotal Amount by city Code and Gender\\n')"
   ]
  },
  {
   "cell_type": "code",
   "execution_count": null,
   "metadata": {},
   "outputs": [],
   "source": []
  }
 ],
 "metadata": {
  "kernelspec": {
   "display_name": "Python 3",
   "language": "python",
   "name": "python3"
  },
  "language_info": {
   "codemirror_mode": {
    "name": "ipython",
    "version": 3
   },
   "file_extension": ".py",
   "mimetype": "text/x-python",
   "name": "python",
   "nbconvert_exporter": "python",
   "pygments_lexer": "ipython3",
   "version": "3.8.5"
  }
 },
 "nbformat": 4,
 "nbformat_minor": 4
}
